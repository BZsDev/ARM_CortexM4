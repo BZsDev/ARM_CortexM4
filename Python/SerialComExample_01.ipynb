{
 "cells": [
  {
   "cell_type": "markdown",
   "metadata": {},
   "source": [
    "Initialization"
   ]
  },
  {
   "cell_type": "code",
   "execution_count": 2,
   "metadata": {},
   "outputs": [],
   "source": [
    "import serial\n",
    "\n",
    "ser = serial.Serial(\"COM5\", 9600)\n",
    "\n",
    "\n",
    "\n",
    "ser.baudrate = 9600\n",
    "ser.bytesize = serial.EIGHTBITS #number of bits per bytes\n",
    "ser.parity = serial.PARITY_NONE #set parity check: no parity\n",
    "ser.stopbits = serial.STOPBITS_ONE\n",
    "ser.timeout = 10\n"
   ]
  },
  {
   "cell_type": "markdown",
   "metadata": {},
   "source": [
    "C lib initialization"
   ]
  },
  {
   "cell_type": "code",
   "execution_count": 1,
   "metadata": {},
   "outputs": [
    {
     "name": "stdout",
     "output_type": "stream",
     "text": [
      "2550470449616\n"
     ]
    }
   ],
   "source": [
    "from ctypes import CDLL, c_float\n",
    "import ctypes as cp\n",
    "import subprocess\n",
    "\n",
    "c_lib_name = \"c_lib\"\n",
    "\n",
    "subprocess.run(\"gcc -fPIC -shared -o \"+ c_lib_name +\".so \"+ c_lib_name +\".c\") \n",
    "\n",
    "so_file = \"C:/BaloghZsolt/C_code/ARM_CortexM4/Python/\"+ c_lib_name +\".so\"\n",
    "\n",
    "c_lib = CDLL(so_file)\n",
    "\n",
    "i = c_float(1)\n",
    "\n",
    "print(id(i.value))"
   ]
  },
  {
   "cell_type": "markdown",
   "metadata": {},
   "source": [
    "One byte send/receive programs"
   ]
  },
  {
   "cell_type": "code",
   "execution_count": null,
   "metadata": {},
   "outputs": [],
   "source": [
    "int_var = 1221\n",
    "\n",
    "byte_var = int_var.to_bytes(2, 'big')\n",
    "\n",
    "ser.write(byte_var)"
   ]
  },
  {
   "cell_type": "code",
   "execution_count": null,
   "metadata": {},
   "outputs": [],
   "source": [
    "byte_var = ser.read()  \n",
    "\n",
    "int_var = int.from_bytes(byte_var, \"big\")\n",
    "print(int_var)"
   ]
  },
  {
   "cell_type": "code",
   "execution_count": 45,
   "metadata": {},
   "outputs": [
    {
     "name": "stdout",
     "output_type": "stream",
     "text": [
      "0b0\n",
      "b''\n"
     ]
    }
   ],
   "source": [
    "\n",
    "print(bin(int_var))\n",
    "print(byte_var)"
   ]
  },
  {
   "cell_type": "code",
   "execution_count": 22,
   "metadata": {},
   "outputs": [
    {
     "name": "stdout",
     "output_type": "stream",
     "text": [
      "16\n"
     ]
    }
   ],
   "source": [
    "\n",
    "print(c_lib.square(4))"
   ]
  },
  {
   "cell_type": "code",
   "execution_count": 6,
   "metadata": {},
   "outputs": [
    {
     "name": "stdout",
     "output_type": "stream",
     "text": [
      "1123477881\n",
      "79e9f642\n"
     ]
    }
   ],
   "source": [
    "byte_var = ser.read(size=4) \n",
    "\n",
    "int_var = int.from_bytes(byte_var, \"little\")\n",
    "print(int_var)\n",
    "print(byte_var.hex())"
   ]
  },
  {
   "cell_type": "code",
   "execution_count": 5,
   "metadata": {},
   "outputs": [
    {
     "name": "stdout",
     "output_type": "stream",
     "text": [
      "<class 'int'>\n",
      "0\n"
     ]
    }
   ],
   "source": [
    "floatNum = c_lib.uint32_to_float_interpreter(20)\n",
    "\n",
    "print(type(floatNum))\n",
    "print(floatNum)"
   ]
  },
  {
   "cell_type": "markdown",
   "metadata": {},
   "source": [
    "Cast to float"
   ]
  },
  {
   "cell_type": "code",
   "execution_count": 7,
   "metadata": {},
   "outputs": [
    {
     "name": "stdout",
     "output_type": "stream",
     "text": [
      "123.45600128173828\n"
     ]
    }
   ],
   "source": [
    "import struct\n",
    "\n",
    "def int_to_float_bits(n: int) -> float:\n",
    "    # Pack the integer into bytes\n",
    "    int_bytes = struct.pack('I', n)\n",
    "    # Unpack the bytes into a float\n",
    "    float_value = struct.unpack('f', int_bytes)[0]\n",
    "    return float_value\n",
    "\n",
    "print(int_to_float_bits(1123477881))"
   ]
  }
 ],
 "metadata": {
  "kernelspec": {
   "display_name": ".venv",
   "language": "python",
   "name": "python3"
  },
  "language_info": {
   "codemirror_mode": {
    "name": "ipython",
    "version": 3
   },
   "file_extension": ".py",
   "mimetype": "text/x-python",
   "name": "python",
   "nbconvert_exporter": "python",
   "pygments_lexer": "ipython3",
   "version": "3.11.2"
  }
 },
 "nbformat": 4,
 "nbformat_minor": 2
}
